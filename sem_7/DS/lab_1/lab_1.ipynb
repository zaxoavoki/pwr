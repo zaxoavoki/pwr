{
 "cells": [
  {
   "cell_type": "code",
   "execution_count": 1,
   "metadata": {},
   "outputs": [
    {
     "data": {
      "text/plain": [
       "['lab_1.ipynb',\n",
       " 'f.txt',\n",
       " '.ipynb_checkpoints',\n",
       " 'lab_1.ipynb',\n",
       " 'f.txt',\n",
       " '.ipynb_checkpoints']"
      ]
     },
     "execution_count": 1,
     "metadata": {},
     "output_type": "execute_result"
    }
   ],
   "source": [
    "import os\n",
    "\n",
    "lst = os.listdir()\n",
    "lst + lst"
   ]
  },
  {
   "cell_type": "markdown",
   "metadata": {},
   "source": [
    "# Hello, World\n",
    "\n",
    "**Komentarz**"
   ]
  },
  {
   "cell_type": "code",
   "execution_count": 2,
   "metadata": {},
   "outputs": [
    {
     "data": {
      "text/plain": [
       "['lab_1.ipynb', 'f.txt', '.ipynb_checkpoints', 'X']"
      ]
     },
     "execution_count": 2,
     "metadata": {},
     "output_type": "execute_result"
    }
   ],
   "source": [
    "lst.append('X')\n",
    "lst"
   ]
  },
  {
   "cell_type": "markdown",
   "metadata": {},
   "source": [
    "$$\\int_0^{\\int}$$"
   ]
  },
  {
   "cell_type": "code",
   "execution_count": 3,
   "metadata": {},
   "outputs": [
    {
     "data": {
      "text/plain": [
       "(['Y', 'f.txt', '.ipynb_checkpoints', 'X'],\n",
       " ['Y', 'f.txt', '.ipynb_checkpoints', 'X'])"
      ]
     },
     "execution_count": 3,
     "metadata": {},
     "output_type": "execute_result"
    }
   ],
   "source": [
    "lst2 = lst\n",
    "lst2[0] = 'Y'\n",
    "\n",
    "lst, lst2"
   ]
  },
  {
   "cell_type": "code",
   "execution_count": 4,
   "metadata": {},
   "outputs": [
    {
     "name": "stdout",
     "output_type": "stream",
     "text": [
      "Y\n",
      "f.txt\n",
      ".ipynb_checkpoints\n",
      "X\n",
      "Y\n",
      "f.txt\n",
      ".ipynb_checkpoints\n",
      "X\n"
     ]
    }
   ],
   "source": [
    "for i in lst:\n",
    "  print(i)\n",
    "\n",
    "for i in range(len(lst)):\n",
    "  print(lst[i])"
   ]
  },
  {
   "cell_type": "code",
   "execution_count": 5,
   "metadata": {},
   "outputs": [
    {
     "name": "stdout",
     "output_type": "stream",
     "text": [
      "lab_1.ipynb is file\n",
      "f.txt is file\n",
      ".ipynb_checkpoints is not a file\n"
     ]
    }
   ],
   "source": [
    "for i in os.listdir():\n",
    "  if os.path.isfile(i):\n",
    "    print(i + ' is file')\n",
    "  else:\n",
    "    print(i + ' is not a file')"
   ]
  },
  {
   "cell_type": "code",
   "execution_count": 6,
   "metadata": {},
   "outputs": [
    {
     "data": {
      "text/plain": [
       "('h', ['e', 'l', 'l', 'o'])"
      ]
     },
     "execution_count": 6,
     "metadata": {},
     "output_type": "execute_result"
    }
   ],
   "source": [
    "l = 'hello'\n",
    "h, *rest = l\n",
    "\n",
    "h, rest"
   ]
  },
  {
   "cell_type": "code",
   "execution_count": 7,
   "metadata": {},
   "outputs": [
    {
     "data": {
      "text/plain": [
       "['h', 'e', 'o', 'l', 'o', 'l', 'l', 'o', 'e', 'o']"
      ]
     },
     "execution_count": 7,
     "metadata": {},
     "output_type": "execute_result"
    }
   ],
   "source": [
    "import numpy as np\n",
    "\n",
    "a = np.random.choice([*'hello'], p=[0.25, 0.1, 0.15, 0.15, 0.35], size=10)\n",
    "list(a)"
   ]
  },
  {
   "cell_type": "code",
   "execution_count": 8,
   "metadata": {},
   "outputs": [
    {
     "data": {
      "text/plain": [
       "(array(['m', 'm', 'k', 'k', 'k', 'k', 'k', 'k', 'k', 'k'], dtype='<U1'),\n",
       " [1, 1, 0, 0, 0, 0, 0, 0, 0, 0],\n",
       " [1, 1, 0, 0, 0, 0, 0, 0, 0, 0])"
      ]
     },
     "execution_count": 8,
     "metadata": {},
     "output_type": "execute_result"
    }
   ],
   "source": [
    "t = np.random.choice(['k', 'm'], p=[0.7, 0.3], size=10, replace=True)\n",
    "\n",
    "zak2 = list(map({ 'k':0, 'm':1 }.get, t))\n",
    "zak = [ 0 if i == 'k' else 1 for i in t ]\n",
    "t, zak, zak2"
   ]
  },
  {
   "cell_type": "code",
   "execution_count": 9,
   "metadata": {},
   "outputs": [
    {
     "data": {
      "text/plain": [
       "[0, 4, 16, 36, 64]"
      ]
     },
     "execution_count": 9,
     "metadata": {},
     "output_type": "execute_result"
    }
   ],
   "source": [
    "a = np.array(zak)\n",
    "b = np.array([ 0 if i == 'k' else 1 for i in t ])\n",
    "\n",
    "[ x**2 for x in range(10) if x % 2 == 0 ]"
   ]
  },
  {
   "cell_type": "code",
   "execution_count": 10,
   "metadata": {},
   "outputs": [
    {
     "data": {
      "text/plain": [
       "['hello', 'world']"
      ]
     },
     "execution_count": 10,
     "metadata": {},
     "output_type": "execute_result"
    }
   ],
   "source": [
    "with open('f.txt', 'w') as f:\n",
    "  f.write('hello\\nworld')\n",
    "\n",
    "[ i.strip() for i in open('f.txt')]"
   ]
  },
  {
   "cell_type": "code",
   "execution_count": 11,
   "metadata": {},
   "outputs": [
    {
     "data": {
      "text/plain": [
       "'   adeehhllloooorruwwy'"
      ]
     },
     "execution_count": 11,
     "metadata": {},
     "output_type": "execute_result"
    }
   ],
   "source": [
    "set(l)\n",
    "\n",
    "a = [*'helloworld how are you']\n",
    "a.sort()\n",
    "''.join(a)"
   ]
  },
  {
   "cell_type": "code",
   "execution_count": 12,
   "metadata": {},
   "outputs": [
    {
     "name": "stdout",
     "output_type": "stream",
     "text": [
      "0\n",
      "1\n",
      "2\n",
      "3\n",
      "4\n"
     ]
    }
   ],
   "source": [
    "def gen():\n",
    "  for i in range(5):\n",
    "    yield i\n",
    "\n",
    "\n",
    "for i in gen():\n",
    "  print(i)"
   ]
  },
  {
   "cell_type": "code",
   "execution_count": 13,
   "metadata": {},
   "outputs": [
    {
     "data": {
      "text/plain": [
       "('hello\\n', 'world')"
      ]
     },
     "execution_count": 13,
     "metadata": {},
     "output_type": "execute_result"
    }
   ],
   "source": [
    "g = ( i for i in open('f.txt') )\n",
    "i = iter(g)\n",
    "\n",
    "next(i), next(i)"
   ]
  },
  {
   "cell_type": "code",
   "execution_count": 14,
   "metadata": {},
   "outputs": [
    {
     "name": "stdout",
     "output_type": "stream",
     "text": [
      "1 1\n"
     ]
    },
    {
     "data": {
      "text/plain": [
       "[(1, 2), (2, 3), (3, 5), (5, 8), (8, 13), (13, 21)]"
      ]
     },
     "execution_count": 14,
     "metadata": {},
     "output_type": "execute_result"
    }
   ],
   "source": [
    "def fib(n, p=1, d=1):\n",
    "  a, b = p, d\n",
    "  print(a, b)\n",
    "  for _ in range(n - 2):\n",
    "    a, b = b, a + b\n",
    "    yield a, b\n",
    "\n",
    "\n",
    "g = fib(8)\n",
    "list(g)"
   ]
  },
  {
   "cell_type": "code",
   "execution_count": 15,
   "metadata": {},
   "outputs": [
    {
     "name": "stdout",
     "output_type": "stream",
     "text": [
      "london england\n",
      "moscow russia\n",
      "kyiv ukraine\n"
     ]
    },
    {
     "data": {
      "text/plain": [
       "'default value'"
      ]
     },
     "execution_count": 15,
     "metadata": {},
     "output_type": "execute_result"
    }
   ],
   "source": [
    "a = {\n",
    "  'london': 'england',\n",
    "  'moscow': 'russia',\n",
    "  'kyiv': 'ukraine'\n",
    "}\n",
    "\n",
    "for k, v in a.items():\n",
    "  print(k, v)\n",
    "\n",
    "a.get('londond', 'default value')"
   ]
  },
  {
   "cell_type": "code",
   "execution_count": 16,
   "metadata": {},
   "outputs": [
    {
     "data": {
      "text/plain": [
       "[('l', 2), ('h', 1), ('e', 1), ('o', 1)]"
      ]
     },
     "execution_count": 16,
     "metadata": {},
     "output_type": "execute_result"
    }
   ],
   "source": [
    "from collections import Counter\n",
    "\n",
    "c = Counter('hello')\n",
    "c.most_common()"
   ]
  },
  {
   "cell_type": "code",
   "execution_count": 17,
   "metadata": {},
   "outputs": [
    {
     "data": {
      "text/plain": [
       "0.00012087821960449219"
      ]
     },
     "execution_count": 17,
     "metadata": {},
     "output_type": "execute_result"
    }
   ],
   "source": [
    "from time import time\n",
    "\n",
    "a = time()\n",
    "\n",
    "#for i in range(1000):\n",
    "np.random.rand(100, 100)\n",
    "\n",
    "time() - a"
   ]
  },
  {
   "cell_type": "code",
   "execution_count": 18,
   "metadata": {},
   "outputs": [
    {
     "data": {
      "image/png": "[encoded data removed]",
      "text/plain": [
       "<Figure size 720x720 with 1 Axes>"
      ]
     },
     "metadata": {
      "needs_background": "light"
     },
     "output_type": "display_data"
    }
   ],
   "source": [
    "import matplotlib.pyplot as plt\n",
    "\n",
    "plt.figure(figsize=(10, 10))\n",
    "plt.imshow(np.random.randint(128, 256, size=(32, 32)))\n",
    "plt.show()"
   ]
  },
  {
   "cell_type": "code",
   "execution_count": 41,
   "metadata": {},
   "outputs": [
    {
     "name": "stdout",
     "output_type": "stream",
     "text": [
      "на месте 4 с конца стоит цифра 9\n"
     ]
    }
   ],
   "source": [
    "import math\n",
    "\n",
    "nan = float('nan')\n",
    "a = [nan, nan, nan, 8, 9, 9, 9, nan, nan]\n",
    "\n",
    "i,v = [i for i in enumerate(a[::-1],1) if i[1]][3]\n",
    "print(f'на месте {i} с конца стоит цифра {v}')"
   ]
  }
 ],
 "metadata": {
  "interpreter": {
   "hash": "b0fa6594d8f4cbf19f97940f81e996739fb7646882a419484c72d19e05852a7e"
  },
  "kernelspec": {
   "display_name": "Python 3.9.7 64-bit",
   "name": "python3"
  },
  "language_info": {
   "codemirror_mode": {
    "name": "ipython",
    "version": 3
   },
   "file_extension": ".py",
   "mimetype": "text/x-python",
   "name": "python",
   "nbconvert_exporter": "python",
   "pygments_lexer": "ipython3",
   "version": "3.9.7"
  },
  "orig_nbformat": 4
 },
 "nbformat": 4,
 "nbformat_minor": 2
}
